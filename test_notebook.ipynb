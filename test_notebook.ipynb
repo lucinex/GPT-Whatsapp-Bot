{
 "cells": [
  {
   "cell_type": "code",
   "execution_count": 1,
   "metadata": {},
   "outputs": [
    {
     "name": "stderr",
     "output_type": "stream",
     "text": [
      "/home/srdevl191/Desktop/Whatsapp_BOT/cb/lib/python3.10/site-packages/tqdm/auto.py:21: TqdmWarning: IProgress not found. Please update jupyter and ipywidgets. See https://ipywidgets.readthedocs.io/en/stable/user_install.html\n",
      "  from .autonotebook import tqdm as notebook_tqdm\n",
      "INFO:sentence_transformers.SentenceTransformer:Load pretrained SentenceTransformer: sentence-transformers/all-MiniLM-L6-v2\n",
      "INFO:sentence_transformers.SentenceTransformer:Use pytorch device: cpu\n",
      "INFO:chromadb.telemetry.posthog:Anonymized telemetry enabled. See https://docs.trychroma.com/telemetry for more information.\n",
      "INFO:clickhouse_connect.driver.ctypes:Successfully imported ClickHouse Connect C data optimizations\n",
      "INFO:clickhouse_connect.driver.ctypes:Successfully import ClickHouse Connect C/Numpy optimizations\n",
      "INFO:clickhouse_connect.json_impl:Using python library for writing JSON byte strings\n",
      "INFO:chromadb.db.duckdb:loaded in 27 embeddings\n",
      "INFO:chromadb.db.duckdb:loaded in 1 collections\n"
     ]
    }
   ],
   "source": [
    "from dotenv import load_dotenv\n",
    "from src.chatbot.modules.chroma_handler import (\n",
    "    ingest_document_by_context,\n",
    "    ChromaHandler,\n",
    "    ChromaStore,\n",
    "    ChromaTools\n",
    ")\n",
    "from src.conf import CLIENT"
   ]
  },
  {
   "cell_type": "code",
   "execution_count": 2,
   "metadata": {},
   "outputs": [
    {
     "data": {
      "text/plain": [
       "True"
      ]
     },
     "execution_count": 2,
     "metadata": {},
     "output_type": "execute_result"
    }
   ],
   "source": [
    "load_dotenv()"
   ]
  },
  {
   "cell_type": "code",
   "execution_count": 3,
   "metadata": {},
   "outputs": [],
   "source": [
    "client = CLIENT"
   ]
  },
  {
   "cell_type": "code",
   "execution_count": 4,
   "metadata": {},
   "outputs": [
    {
     "name": "stderr",
     "output_type": "stream",
     "text": [
      "INFO:faiss.loader:Loading faiss with AVX2 support.\n",
      "INFO:faiss.loader:Successfully loaded faiss with AVX2 support.\n"
     ]
    }
   ],
   "source": [
    "from src.chatbot.agent import Agent_BOT"
   ]
  },
  {
   "cell_type": "code",
   "execution_count": 5,
   "metadata": {},
   "outputs": [
    {
     "name": "stderr",
     "output_type": "stream",
     "text": [
      "INFO:sentence_transformers.SentenceTransformer:Load pretrained SentenceTransformer: sentence-transformers/all-MiniLM-L6-v2\n",
      "INFO:sentence_transformers.SentenceTransformer:Use pytorch device: cpu\n"
     ]
    }
   ],
   "source": [
    "bot = Agent_BOT(client)"
   ]
  },
  {
   "cell_type": "code",
   "execution_count": 10,
   "metadata": {},
   "outputs": [
    {
     "name": "stderr",
     "output_type": "stream",
     "text": [
      "INFO:root:loading test_context.json\n",
      "INFO:chromadb.db.duckdb:collection with name test already exists, returning existing collection\n",
      "INFO:llama_index.token_counter.token_counter:> [build_index_from_nodes] Total LLM token usage: 0 tokens\n",
      "INFO:llama_index.token_counter.token_counter:> [build_index_from_nodes] Total embedding token usage: 0 tokens\n",
      "Batches: 100%|██████████| 1/1 [00:00<00:00, 40.11it/s]\n"
     ]
    },
    {
     "name": "stdout",
     "output_type": "stream",
     "text": [
      "\n",
      "\n",
      "\u001b[1m> Entering new AgentExecutor chain...\u001b[0m\n",
      "\u001b[32;1m\u001b[1;3m```json\n",
      "{\n",
      "    \"action\": \"Final Answer\",\n",
      "    \"action_input\": \"You are a user interacting with Luci-BT, an AI language model created by OpenAI. I am here to assist you with a wide range of tasks and answer your questions.\"\n",
      "}\n",
      "```\u001b[0m\n",
      "\n",
      "\u001b[1m> Finished chain.\u001b[0m\n"
     ]
    },
    {
     "name": "stderr",
     "output_type": "stream",
     "text": [
      "Batches: 100%|██████████| 1/1 [00:00<00:00, 62.68it/s]\n"
     ]
    },
    {
     "data": {
      "text/plain": [
       "'You are a user interacting with Luci-BT, an AI language model created by OpenAI. I am here to assist you with a wide range of tasks and answer your questions.\\n\\n<========>\\n*Analytics*: \\n[Tokens: 814]\\n[\\\\Intermediate_steps were:]'"
      ]
     },
     "execution_count": 10,
     "metadata": {},
     "output_type": "execute_result"
    }
   ],
   "source": [
    "bot.run(\"Who am i?\")"
   ]
  },
  {
   "cell_type": "code",
   "execution_count": 7,
   "metadata": {},
   "outputs": [
    {
     "name": "stderr",
     "output_type": "stream",
     "text": [
      "INFO:sentence_transformers.SentenceTransformer:Load pretrained SentenceTransformer: sentence-transformers/all-MiniLM-L6-v2\n",
      "INFO:sentence_transformers.SentenceTransformer:Use pytorch device: cpu\n"
     ]
    },
    {
     "data": {
      "text/plain": [
       "['__class__',\n",
       " '__delattr__',\n",
       " '__dict__',\n",
       " '__dir__',\n",
       " '__doc__',\n",
       " '__eq__',\n",
       " '__format__',\n",
       " '__ge__',\n",
       " '__getattribute__',\n",
       " '__gt__',\n",
       " '__hash__',\n",
       " '__init__',\n",
       " '__init_subclass__',\n",
       " '__le__',\n",
       " '__lt__',\n",
       " '__module__',\n",
       " '__ne__',\n",
       " '__new__',\n",
       " '__reduce__',\n",
       " '__reduce_ex__',\n",
       " '__repr__',\n",
       " '__setattr__',\n",
       " '__sizeof__',\n",
       " '__str__',\n",
       " '__subclasshook__',\n",
       " '__weakref__',\n",
       " '_aget_text_embedding',\n",
       " '_aget_text_embeddings',\n",
       " '_embed_batch_size',\n",
       " '_get_query_embedding',\n",
       " '_get_text_embedding',\n",
       " '_get_text_embeddings',\n",
       " '_langchain_embedding',\n",
       " '_last_token_usage',\n",
       " '_text_queue',\n",
       " '_tokenizer',\n",
       " '_total_tokens_used',\n",
       " 'aget_queued_text_embeddings',\n",
       " 'callback_manager',\n",
       " 'get_agg_embedding_from_queries',\n",
       " 'get_query_embedding',\n",
       " 'get_queued_text_embeddings',\n",
       " 'get_text_embedding',\n",
       " 'last_token_usage',\n",
       " 'queue_text_for_embedding',\n",
       " 'similarity',\n",
       " 'total_tokens_used']"
      ]
     },
     "execution_count": 7,
     "metadata": {},
     "output_type": "execute_result"
    }
   ],
   "source": [
    "from src.chatbot.utils import get_embedding_function\n",
    "emd  = get_embedding_function()\n",
    "dir(emd)"
   ]
  },
  {
   "cell_type": "code",
   "execution_count": 9,
   "metadata": {},
   "outputs": [],
   "source": [
    "from src.conf import EMBEDDING_MODEL_NAME\n",
    "from langchain.embeddings.huggingface import HuggingFaceEmbeddings\n"
   ]
  },
  {
   "cell_type": "code",
   "execution_count": 10,
   "metadata": {},
   "outputs": [
    {
     "name": "stderr",
     "output_type": "stream",
     "text": [
      "INFO:sentence_transformers.SentenceTransformer:Load pretrained SentenceTransformer: sentence-transformers/all-MiniLM-L6-v2\n",
      "INFO:sentence_transformers.SentenceTransformer:Use pytorch device: cpu\n"
     ]
    }
   ],
   "source": [
    "hf = HuggingFaceEmbeddings(model_name=EMBEDDING_MODEL_NAME)"
   ]
  },
  {
   "cell_type": "code",
   "execution_count": 11,
   "metadata": {},
   "outputs": [
    {
     "data": {
      "text/plain": [
       "['Config',\n",
       " '__abstractmethods__',\n",
       " '__annotations__',\n",
       " '__class__',\n",
       " '__class_vars__',\n",
       " '__config__',\n",
       " '__custom_root_type__',\n",
       " '__delattr__',\n",
       " '__dict__',\n",
       " '__dir__',\n",
       " '__doc__',\n",
       " '__eq__',\n",
       " '__exclude_fields__',\n",
       " '__fields__',\n",
       " '__fields_set__',\n",
       " '__format__',\n",
       " '__ge__',\n",
       " '__get_validators__',\n",
       " '__getattribute__',\n",
       " '__getstate__',\n",
       " '__gt__',\n",
       " '__hash__',\n",
       " '__include_fields__',\n",
       " '__init__',\n",
       " '__init_subclass__',\n",
       " '__iter__',\n",
       " '__json_encoder__',\n",
       " '__le__',\n",
       " '__lt__',\n",
       " '__module__',\n",
       " '__ne__',\n",
       " '__new__',\n",
       " '__post_root_validators__',\n",
       " '__pre_root_validators__',\n",
       " '__pretty__',\n",
       " '__private_attributes__',\n",
       " '__reduce__',\n",
       " '__reduce_ex__',\n",
       " '__repr__',\n",
       " '__repr_args__',\n",
       " '__repr_name__',\n",
       " '__repr_str__',\n",
       " '__rich_repr__',\n",
       " '__schema_cache__',\n",
       " '__setattr__',\n",
       " '__setstate__',\n",
       " '__signature__',\n",
       " '__sizeof__',\n",
       " '__slots__',\n",
       " '__str__',\n",
       " '__subclasshook__',\n",
       " '__try_update_forward_refs__',\n",
       " '__validators__',\n",
       " '__weakref__',\n",
       " '_abc_impl',\n",
       " '_calculate_keys',\n",
       " '_copy_and_set_values',\n",
       " '_decompose_class',\n",
       " '_enforce_dict_if_root',\n",
       " '_get_value',\n",
       " '_init_private_attributes',\n",
       " '_iter',\n",
       " 'cache_folder',\n",
       " 'client',\n",
       " 'construct',\n",
       " 'copy',\n",
       " 'dict',\n",
       " 'embed_documents',\n",
       " 'embed_query',\n",
       " 'encode_kwargs',\n",
       " 'from_orm',\n",
       " 'json',\n",
       " 'model_kwargs',\n",
       " 'model_name',\n",
       " 'parse_file',\n",
       " 'parse_obj',\n",
       " 'parse_raw',\n",
       " 'schema',\n",
       " 'schema_json',\n",
       " 'update_forward_refs',\n",
       " 'validate']"
      ]
     },
     "execution_count": 11,
     "metadata": {},
     "output_type": "execute_result"
    }
   ],
   "source": [
    "dir(hf)"
   ]
  },
  {
   "cell_type": "code",
   "execution_count": 10,
   "metadata": {},
   "outputs": [],
   "source": [
    "col_name = \"test\""
   ]
  },
  {
   "cell_type": "code",
   "execution_count": 20,
   "metadata": {},
   "outputs": [],
   "source": [
    "ch = ChromaHandler(\"src/chatbot/agent_data/chroma\", client, col_name)"
   ]
  },
  {
   "cell_type": "code",
   "execution_count": 12,
   "metadata": {},
   "outputs": [
    {
     "name": "stderr",
     "output_type": "stream",
     "text": [
      "INFO:root:Saving to collection test\n",
      "INFO:root:Saving file Thesis_Preparation_Submission_Guidelines_PhD_PG\n",
      "INFO:chromadb.db.duckdb:collection with name test already exists, returning existing collection\n",
      "Batches: 100%|██████████| 1/1 [00:01<00:00,  1.19s/it]\n",
      "Batches: 100%|██████████| 1/1 [00:01<00:00,  1.04s/it]\n",
      "Batches: 100%|██████████| 1/1 [00:00<00:00, 11.07it/s]\n",
      "INFO:llama_index.token_counter.token_counter:> [build_index_from_nodes] Total LLM token usage: 0 tokens\n",
      "INFO:llama_index.token_counter.token_counter:> [build_index_from_nodes] Total embedding token usage: 10430 tokens\n",
      "INFO:root:Saved to chroma Thesis_Preparation_Submission_Guidelines_PhD_PG\n",
      "INFO:chromadb.db.duckdb:Persisting DB to disk, putting it in the save folder: src/chatbot/agent_data/chroma\n",
      "INFO:root:Saved Thesis_Preparation_Submission_Guidelines_PhD_PG\n"
     ]
    },
    {
     "name": "stdout",
     "output_type": "stream",
     "text": [
      "[('Thesis_Preparation_Submission_Guidelines_PhD_PG', '/home/srdevl191/Desktop/Whatsapp_BOT/src/chatbot/data/Documents/Thesis_Preparation_Submission_Guidelines_PhD_PG.pdf', 'fefef135-b969-4510-8076-db082311b7ed')]\n"
     ]
    }
   ],
   "source": [
    "ingest_document_by_context(\"/home/srdevl191/Desktop/Whatsapp_BOT/src/chatbot/data/Documents/Thesis_Preparation_Submission_Guidelines_PhD_PG.pdf\",col_name)"
   ]
  },
  {
   "cell_type": "code",
   "execution_count": 13,
   "metadata": {},
   "outputs": [],
   "source": [
    "chr = ChromaTools(\"src/chatbot/agent_data/chroma\", client, col_name)\n"
   ]
  },
  {
   "cell_type": "code",
   "execution_count": 14,
   "metadata": {},
   "outputs": [
    {
     "name": "stderr",
     "output_type": "stream",
     "text": [
      "INFO:chromadb.db.duckdb:collection with name test already exists, returning existing collection\n",
      "INFO:llama_index.token_counter.token_counter:> [build_index_from_nodes] Total LLM token usage: 0 tokens\n",
      "INFO:llama_index.token_counter.token_counter:> [build_index_from_nodes] Total embedding token usage: 0 tokens\n"
     ]
    }
   ],
   "source": [
    "tool = chr.get_langchain_tool()"
   ]
  },
  {
   "cell_type": "code",
   "execution_count": null,
   "metadata": {},
   "outputs": [],
   "source": []
  },
  {
   "cell_type": "code",
   "execution_count": 15,
   "metadata": {},
   "outputs": [
    {
     "name": "stderr",
     "output_type": "stream",
     "text": [
      "Batches: 100%|██████████| 1/1 [00:00<00:00, 80.57it/s]\n",
      "INFO:llama_index.token_counter.token_counter:> [retrieve] Total LLM token usage: 0 tokens\n",
      "INFO:llama_index.token_counter.token_counter:> [retrieve] Total embedding token usage: 7 tokens\n",
      "INFO:llama_index.token_counter.token_counter:> [get_response] Total LLM token usage: 1091 tokens\n",
      "INFO:llama_index.token_counter.token_counter:> [get_response] Total embedding token usage: 0 tokens\n"
     ]
    },
    {
     "data": {
      "text/plain": [
       "Response(response='\\nWhen starting a thesis report, it is important to provide a brief summary of the research problem and what is already known about it. Additionally, it is important to explain the purpose of the research and the expected outcomes. Finally, it is important to provide a critical review of the findings and suggest any further avenues for improving the work.', source_nodes=[NodeWithScore(node=Node(text='of the relevant chapters towards the end. \\n3.2.7 Concluding Summary and Scope of Further Works \\nThis will be the last chapter of the thesis, which shall usually have two parts. A brief \\nsummary report of the entire work carried out shall form the first part. Usually, it is longer \\nthan the final section of your abstract. Conclusions derived from the presented works and \\nresults shall form the last part. It is often the case with scientific investigations that more \\nquestions than answers are produced. Therefore, do not hesitate to present a critical review \\nof your findings, if any. Such critical reviews suggest any interesting further avenues for \\nimproving your work which, in turn, helps others who want to continue from where you \\nhave stopped. Finally, your thesis must highlight the practical implications of your work to \\nthe society.  \\n3.2.8 Appendix/Appendices \\nAppendix refers to any addition (supplementary materials) to your thesis at the end. In \\ncases where lengthy derivations, details information, etc could not be accommodated in the \\nmain text, without the same the thesis may remain incomplete. Therefore, present such \\nmaterials as separate appendices numbering them in Roman capitals (e.g., Appendix I, \\nAppendix II etc.).  \\n3.2.9 Literature Citation \\nAll cited literature must appear in the list of references and numbered sequentially as they \\nare referred in the text of the thesis. All particular works consulted but not specifically \\ncited should be listed as Bibliography which shall appear after the References. The title \\n\\n<page-break>\\n    GUIDELINES FOR THESIS', doc_id='c180b04b-0e2a-45d5-b591-f9e2fcbeb5da', embedding=None, doc_hash='d8081b876d2adf69ed36fdbb5e806539a79d2f278d148e5007a3055f787a8a4c', extra_info={'context_filepath': 'src/chatbot/agent_data/chroma/test', 'filename': 'Thesis_Preparation_Submission_Guidelines_PhD_PG.pdf', 'filepath': '/home/srdevl191/Desktop/Whatsapp_BOT/src/chatbot/data/Documents/Thesis_Preparation_Submission_Guidelines_PhD_PG.pdf', 'created_at': '2023-06-05 ## 13:13:23', 'page_no': '10'}, node_info={'start': 13572, 'end': 15170, '_node_type': '1'}, relationships={<DocumentRelationship.SOURCE: '1'>: 'fefef135-b969-4510-8076-db082311b7ed', <DocumentRelationship.PREVIOUS: '2'>: '00781885-3a30-47c6-ad90-e24baf303eaa', <DocumentRelationship.NEXT: '3'>: '92b815e7-ce4c-4e5b-a425-b33a5edc12ce'}), score=0.6176993397242732), NodeWithScore(node=Node(text=' NATIONAL INSTITUTE OF TECHNOLOGY SILCHAR \\nACADEMIC OFFICE \\n \\n \\n \\nGUIDELINES FOR THESIS/DISSERTATION \\nPREPARATION AND SUBMISSION \\n  \\nFOR \\n \\nPh.D. AND PG STUDENTS \\n \\n \\n           \\n       \\n2012 \\n\\n<page-break>\\n2 \\nGUIDELINES FOR THESIS PREPARATION AND SUBMISSION \\nPreamble \\nA thesis/dissertation (hereinafter called the ‘thesis’) is a research report. The report \\nconcerns a problem or series of problems in your area of research and it should describe \\nwhat was known about it previously, what you did towards solving it, what you think your \\nresults mean, and where or how further progress in the field can be made. For the first time \\nreader of a thesis the reported findings must be unknown. In other words, the Institute \\nrequires that a thesis makes an original contribution to human knowledge: your research \\nmust discover something hitherto unknown. The examiners who will read the thesis will be \\nthe experts in the general field of your thesis. But on the exact topic of your thesis, you are \\nthe only expert. Therefore, thesis should be prepared in such a way that the topics are clear \\nto a reader who has not spent most of the last three years thinking about it. However, \\ninclusion of undue/unnecessary contents anywhere in the thesis, just to increase its volume, \\n is always undesirable.   \\nWhile utmost attention must be paid to the content of the thesis which is being \\nsubmitted in partial fulfillment of', doc_id='25f6ae40-d06b-48f7-ad45-5123292ca577', embedding=None, doc_hash='efef022031dc2969cb2aaa0045bed319e6ae763b457214d2169b80d03f203d67', extra_info={'context_filepath': 'src/chatbot/agent_data/chroma/test', 'filename': 'Thesis_Preparation_Submission_Guidelines_PhD_PG.pdf', 'filepath': '/home/srdevl191/Desktop/Whatsapp_BOT/src/chatbot/data/Documents/Thesis_Preparation_Submission_Guidelines_PhD_PG.pdf', 'created_at': '2023-06-05 ## 13:13:23', 'page_no': '1'}, node_info={'start': 0, 'end': 1419, '_node_type': '1'}, relationships={<DocumentRelationship.SOURCE: '1'>: 'fefef135-b969-4510-8076-db082311b7ed', <DocumentRelationship.NEXT: '3'>: '6d711085-767d-4684-91b5-245f201ab697'}), score=0.6226102756420089)], extra_info={'c180b04b-0e2a-45d5-b591-f9e2fcbeb5da': {'context_filepath': 'src/chatbot/agent_data/chroma/test', 'filename': 'Thesis_Preparation_Submission_Guidelines_PhD_PG.pdf', 'filepath': '/home/srdevl191/Desktop/Whatsapp_BOT/src/chatbot/data/Documents/Thesis_Preparation_Submission_Guidelines_PhD_PG.pdf', 'created_at': '2023-06-05 ## 13:13:23', 'page_no': '10'}, '25f6ae40-d06b-48f7-ad45-5123292ca577': {'context_filepath': 'src/chatbot/agent_data/chroma/test', 'filename': 'Thesis_Preparation_Submission_Guidelines_PhD_PG.pdf', 'filepath': '/home/srdevl191/Desktop/Whatsapp_BOT/src/chatbot/data/Documents/Thesis_Preparation_Submission_Guidelines_PhD_PG.pdf', 'created_at': '2023-06-05 ## 13:13:23', 'page_no': '1'}})"
      ]
     },
     "execution_count": 15,
     "metadata": {},
     "output_type": "execute_result"
    }
   ],
   "source": [
    "tool.func(\"how to start a thesis report?\")"
   ]
  },
  {
   "cell_type": "code",
   "execution_count": 5,
   "metadata": {},
   "outputs": [
    {
     "name": "stderr",
     "output_type": "stream",
     "text": [
      "WARNING:chromadb.api.models.Collection:No embedding_function provided, using default embedding function: DefaultEmbeddingFunction https://huggingface.co/sentence-transformers/all-MiniLM-L6-v2\n"
     ]
    },
    {
     "data": {
      "text/plain": [
       "[Collection(name=test)]"
      ]
     },
     "execution_count": 5,
     "metadata": {},
     "output_type": "execute_result"
    }
   ],
   "source": [
    "CLIENT.list_collections()"
   ]
  },
  {
   "cell_type": "code",
   "execution_count": 16,
   "metadata": {},
   "outputs": [
    {
     "name": "stderr",
     "output_type": "stream",
     "text": [
      "WARNING:chromadb.api.models.Collection:No embedding_function provided, using default embedding function: DefaultEmbeddingFunction https://huggingface.co/sentence-transformers/all-MiniLM-L6-v2\n"
     ]
    }
   ],
   "source": [
    "test = CLIENT.get_collection(\"test\")"
   ]
  },
  {
   "cell_type": "code",
   "execution_count": 17,
   "metadata": {},
   "outputs": [
    {
     "data": {
      "text/plain": [
       "21"
      ]
     },
     "execution_count": 17,
     "metadata": {},
     "output_type": "execute_result"
    }
   ],
   "source": [
    "test.count()"
   ]
  },
  {
   "cell_type": "code",
   "execution_count": 21,
   "metadata": {},
   "outputs": [
    {
     "data": {
      "text/plain": [
       "[('Thesis_Preparation_Submission_Guidelines_PhD_PG',\n",
       "  '/home/srdevl191/Desktop/Whatsapp_BOT/src/chatbot/data/Documents/Thesis_Preparation_Submission_Guidelines_PhD_PG.pdf',\n",
       "  'fefef135-b969-4510-8076-db082311b7ed')]"
      ]
     },
     "execution_count": 21,
     "metadata": {},
     "output_type": "execute_result"
    }
   ],
   "source": [
    "ch.get_all_indexed_files()"
   ]
  },
  {
   "cell_type": "code",
   "execution_count": 12,
   "metadata": {},
   "outputs": [
    {
     "name": "stderr",
     "output_type": "stream",
     "text": [
      "INFO:root:File Thesis_Preparation_Submission_Guidelines_PhD_PG is not indexed in context test.\n"
     ]
    }
   ],
   "source": [
    "ch.delete_document_by_name('Thesis_Preparation_Submission_Guidelines_PhD_PG')"
   ]
  },
  {
   "cell_type": "code",
   "execution_count": 8,
   "metadata": {},
   "outputs": [
    {
     "data": {
      "text/plain": [
       "{}"
      ]
     },
     "execution_count": 8,
     "metadata": {},
     "output_type": "execute_result"
    }
   ],
   "source": [
    "ch.context_info"
   ]
  },
  {
   "cell_type": "code",
   "execution_count": null,
   "metadata": {},
   "outputs": [],
   "source": []
  },
  {
   "cell_type": "code",
   "execution_count": null,
   "metadata": {},
   "outputs": [],
   "source": []
  }
 ],
 "metadata": {
  "kernelspec": {
   "display_name": "cb",
   "language": "python",
   "name": "python3"
  },
  "language_info": {
   "codemirror_mode": {
    "name": "ipython",
    "version": 3
   },
   "file_extension": ".py",
   "mimetype": "text/x-python",
   "name": "python",
   "nbconvert_exporter": "python",
   "pygments_lexer": "ipython3",
   "version": "3.10.6"
  },
  "orig_nbformat": 4
 },
 "nbformat": 4,
 "nbformat_minor": 2
}
